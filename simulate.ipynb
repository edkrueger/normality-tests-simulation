{
 "cells": [
  {
   "cell_type": "code",
   "execution_count": 1,
   "metadata": {},
   "outputs": [],
   "source": [
    "%load_ext lab_black"
   ]
  },
  {
   "cell_type": "code",
   "execution_count": 2,
   "metadata": {},
   "outputs": [],
   "source": [
    "from scipy.stats import norm, normaltest, shapiro"
   ]
  },
  {
   "cell_type": "code",
   "execution_count": 3,
   "metadata": {},
   "outputs": [],
   "source": [
    "tests = [normaltest, shapiro]"
   ]
  },
  {
   "cell_type": "code",
   "execution_count": 4,
   "metadata": {},
   "outputs": [],
   "source": [
    "sample_sizes = [10 ** i for i in range(1, 6)]\n",
    "# sample_sizes = [10, 20, 30, 40, 50]"
   ]
  },
  {
   "cell_type": "code",
   "execution_count": 5,
   "metadata": {},
   "outputs": [],
   "source": [
    "distribution = norm"
   ]
  },
  {
   "cell_type": "code",
   "execution_count": 6,
   "metadata": {},
   "outputs": [],
   "source": [
    "significance = 0.05"
   ]
  },
  {
   "cell_type": "code",
   "execution_count": 7,
   "metadata": {},
   "outputs": [],
   "source": [
    "n_trials = 10_000"
   ]
  },
  {
   "cell_type": "code",
   "execution_count": 8,
   "metadata": {},
   "outputs": [
    {
     "name": "stderr",
     "output_type": "stream",
     "text": [
      "/Library/Frameworks/Python.framework/Versions/3.7/lib/python3.7/site-packages/scipy/stats/stats.py:1604: UserWarning: kurtosistest only valid for n>=20 ... continuing anyway, n=10\n",
      "  \"anyway, n=%i\" % int(n))\n",
      "/Library/Frameworks/Python.framework/Versions/3.7/lib/python3.7/site-packages/scipy/stats/morestats.py:1681: UserWarning: p-value may not be accurate for N > 5000.\n",
      "  warnings.warn(\"p-value may not be accurate for N > 5000.\")\n"
     ]
    }
   ],
   "source": [
    "results = []\n",
    "\n",
    "for sample_size in sample_sizes:\n",
    "\n",
    "    n_rejections = {test.__name__: 0 for test in tests}\n",
    "\n",
    "    for _ in range(n_trials):\n",
    "\n",
    "        sample = distribution.rvs(size=sample_size)\n",
    "\n",
    "        for test in tests:\n",
    "\n",
    "            result = test(sample)\n",
    "            pvalue = result.pvalue\n",
    "\n",
    "            if pvalue <= significance:\n",
    "                n_rejections[test.__name__] += 1\n",
    "\n",
    "    for test_name, rejections in n_rejections.items():\n",
    "        results.append(\n",
    "            {\n",
    "                \"test\": test_name,\n",
    "                \"rejection_rate\": rejections / n_trials,\n",
    "                \"sample_size\": sample_size,\n",
    "                \"n_trials\": n_trials,\n",
    "                \"significance\": significance,\n",
    "            }\n",
    "        )"
   ]
  },
  {
   "cell_type": "code",
   "execution_count": 9,
   "metadata": {},
   "outputs": [
    {
     "data": {
      "text/plain": [
       "[{'test': 'normaltest',\n",
       "  'rejection_rate': 0.0545,\n",
       "  'sample_size': 10,\n",
       "  'n_trials': 10000,\n",
       "  'significance': 0.05},\n",
       " {'test': 'shapiro',\n",
       "  'rejection_rate': 0.05,\n",
       "  'sample_size': 10,\n",
       "  'n_trials': 10000,\n",
       "  'significance': 0.05},\n",
       " {'test': 'normaltest',\n",
       "  'rejection_rate': 0.0541,\n",
       "  'sample_size': 100,\n",
       "  'n_trials': 10000,\n",
       "  'significance': 0.05},\n",
       " {'test': 'shapiro',\n",
       "  'rejection_rate': 0.0484,\n",
       "  'sample_size': 100,\n",
       "  'n_trials': 10000,\n",
       "  'significance': 0.05},\n",
       " {'test': 'normaltest',\n",
       "  'rejection_rate': 0.0539,\n",
       "  'sample_size': 1000,\n",
       "  'n_trials': 10000,\n",
       "  'significance': 0.05},\n",
       " {'test': 'shapiro',\n",
       "  'rejection_rate': 0.0509,\n",
       "  'sample_size': 1000,\n",
       "  'n_trials': 10000,\n",
       "  'significance': 0.05},\n",
       " {'test': 'normaltest',\n",
       "  'rejection_rate': 0.0469,\n",
       "  'sample_size': 10000,\n",
       "  'n_trials': 10000,\n",
       "  'significance': 0.05},\n",
       " {'test': 'shapiro',\n",
       "  'rejection_rate': 0.0323,\n",
       "  'sample_size': 10000,\n",
       "  'n_trials': 10000,\n",
       "  'significance': 0.05},\n",
       " {'test': 'normaltest',\n",
       "  'rejection_rate': 0.05,\n",
       "  'sample_size': 100000,\n",
       "  'n_trials': 10000,\n",
       "  'significance': 0.05},\n",
       " {'test': 'shapiro',\n",
       "  'rejection_rate': 0.0045,\n",
       "  'sample_size': 100000,\n",
       "  'n_trials': 10000,\n",
       "  'significance': 0.05}]"
      ]
     },
     "execution_count": 9,
     "metadata": {},
     "output_type": "execute_result"
    }
   ],
   "source": [
    "results"
   ]
  }
 ],
 "metadata": {
  "kernelspec": {
   "display_name": "Python 3",
   "language": "python",
   "name": "python3"
  },
  "language_info": {
   "codemirror_mode": {
    "name": "ipython",
    "version": 3
   },
   "file_extension": ".py",
   "mimetype": "text/x-python",
   "name": "python",
   "nbconvert_exporter": "python",
   "pygments_lexer": "ipython3",
   "version": "3.7.5"
  }
 },
 "nbformat": 4,
 "nbformat_minor": 4
}
